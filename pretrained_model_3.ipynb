{
 "cells": [
  {
   "cell_type": "code",
   "execution_count": 1,
   "id": "cb4118f4",
   "metadata": {},
   "outputs": [],
   "source": [
    "import numpy as bp\n",
    "import sklearn\n",
    "from sklearn.model_selection import train_test_split\n",
    "import tensorflow\n",
    "from tensorflow.keras.models import Model\n",
    "from tensorflow.keras.optimizers import Adam\n",
    "from tensorflow.keras.layers import Activation, Flatten, Dense, Conv2D, MaxPooling2D, Input, Add, BatchNormalization\n",
    "from tensorflow.keras.losses import SparseCategoricalCrossentropy\n",
    "import matplotlib.pyplot as plt\n",
    "from tensorflow.keras.callbacks import EarlyStopping, ModelCheckpoint, TensorBoard\n",
    "import seaborn as sns\n",
    "import pandas as pd\n",
    "import tensorflow.keras.backend as K"
   ]
  },
  {
   "cell_type": "code",
   "execution_count": 2,
   "id": "4df123e0-a2ed-4657-b16d-0704f63d43b4",
   "metadata": {},
   "outputs": [
    {
     "data": {
      "text/plain": [
       "[PhysicalDevice(name='/physical_device:GPU:0', device_type='GPU')]"
      ]
     },
     "execution_count": 2,
     "metadata": {},
     "output_type": "execute_result"
    }
   ],
   "source": [
    "physical_devices = tensorflow.config.list_physical_devices(\"GPU\")\n",
    "physical_devices"
   ]
  },
  {
   "cell_type": "code",
   "execution_count": 3,
   "id": "bc355c60-c2be-4d34-817c-afbd9e81135e",
   "metadata": {},
   "outputs": [],
   "source": [
    "tensorflow.config.experimental.set_memory_growth(physical_devices[0], True)"
   ]
  },
  {
   "cell_type": "code",
   "execution_count": 4,
   "id": "cf7ecc60",
   "metadata": {},
   "outputs": [
    {
     "name": "stdout",
     "output_type": "stream",
     "text": [
      "Downloading data from https://storage.googleapis.com/tensorflow/tf-keras-datasets/mnist.npz\n",
      "11490434/11490434 [==============================] - 4s 0us/step\n"
     ]
    }
   ],
   "source": [
    "(x_train, y_train), (x_test, y_test) = tensorflow.keras.datasets.mnist.load_data()\n",
    "assert x_train.shape == (60000, 28, 28)\n",
    "assert x_test.shape == (10000, 28, 28)\n",
    "assert y_train.shape == (60000,)\n",
    "assert y_test.shape == (10000,)"
   ]
  },
  {
   "cell_type": "code",
   "execution_count": 5,
   "id": "efadf808",
   "metadata": {},
   "outputs": [],
   "source": [
    "train_x, test_x, train_y, test_y = train_test_split(x_train, y_train, test_size = 0.2)"
   ]
  },
  {
   "cell_type": "code",
   "execution_count": 6,
   "id": "5a2286c1",
   "metadata": {},
   "outputs": [],
   "source": [
    "d = list(zip(x_train, y_train))\n",
    "data = pd.DataFrame(data = d, columns = ['image', 'label'])"
   ]
  },
  {
   "cell_type": "code",
   "execution_count": 7,
   "id": "912a4095",
   "metadata": {},
   "outputs": [
    {
     "data": {
      "image/png": "[encoded data removed]",
      "text/plain": [
       "<Figure size 600x600 with 1 Axes>"
      ]
     },
     "metadata": {},
     "output_type": "display_data"
    }
   ],
   "source": [
    "fig, ax = plt.subplots(figsize = (6, 6), facecolor = \"#e5e5e5\")\n",
    "ax.set_facecolor(\"#e5e5e5\")\n",
    "\n",
    "sns.countplot(x = \"label\", data = data, ax = ax)\n",
    "\n",
    "ax.set_title(\"Distribution of Class Labels\")\n",
    "sns.despine()\n",
    "plt.show()"
   ]
  },
  {
   "cell_type": "code",
   "execution_count": 9,
   "id": "96faa01c",
   "metadata": {},
   "outputs": [],
   "source": [
    "train_x = train_x/255.0\n",
    "test_x = test_x/255.0"
   ]
  },
  {
   "cell_type": "code",
   "execution_count": 21,
   "id": "ee6951f6",
   "metadata": {},
   "outputs": [],
   "source": [
    "def modelfn(input_shape = (28,28,1)):\n",
    "    x_input = Input(input_shape)\n",
    "    x = x_input\n",
    "    x = Conv2D(128, kernel_size = (3,3), padding = 'same')(x)\n",
    "    x = Activation('relu')(x)\n",
    "    x = Conv2D(64, kernel_size = (3,3), padding = 'same')(x)\n",
    "    x = Activation('relu')(x)\n",
    "    x = BatchNormalization()(x)\n",
    "    x = Conv2D(32, kernel_size = (3,3), padding = 'same')(x)\n",
    "    x = Activation('relu')(x)\n",
    "    x = Conv2D(32, kernel_size = (3,3), padding = 'same')(x)\n",
    "    x = Activation('relu')(x)\n",
    "    x = MaxPooling2D((2,2))(x)\n",
    "    x = Conv2D(16, kernel_size = (3,3), padding = 'same')(x)\n",
    "    x = Activation('relu')(x)\n",
    "    x = MaxPooling2D((2,2))(x)\n",
    "    x = Flatten()(x)\n",
    "    x = Dense(10)(x)\n",
    "    x = Activation('softmax')(x)\n",
    "    model = Model(inputs = x_input, outputs = x, name = 'modelfn')\n",
    "    return model"
   ]
  },
  {
   "cell_type": "code",
   "execution_count": 22,
   "id": "e550430a",
   "metadata": {},
   "outputs": [],
   "source": [
    "model = modelfn(input_shape = (28,28,1))"
   ]
  },
  {
   "cell_type": "code",
   "execution_count": 23,
   "id": "1f1cb4d6",
   "metadata": {},
   "outputs": [],
   "source": [
    "optimizer = Adam(0.0001)\n",
    "callback = [EarlyStopping(patience = 0.2)]"
   ]
  },
  {
   "cell_type": "code",
   "execution_count": 24,
   "id": "9a8fc415",
   "metadata": {},
   "outputs": [],
   "source": [
    "def customLoss(y_true, y_pred, from_logits=False, axis=-1):\n",
    "    return K.sparse_categorical_crossentropy(\n",
    "      y_true, y_pred, from_logits=from_logits, axis=axis)"
   ]
  },
  {
   "cell_type": "code",
   "execution_count": 25,
   "id": "3ed097b3",
   "metadata": {},
   "outputs": [],
   "source": [
    "model.compile(optimizer=optimizer, loss=customLoss, metrics=['accuracy'])"
   ]
  },
  {
   "cell_type": "code",
   "execution_count": 26,
   "id": "6c39df97",
   "metadata": {},
   "outputs": [
    {
     "name": "stdout",
     "output_type": "stream",
     "text": [
      "Model: \"modelfn\"\n",
      "_________________________________________________________________\n",
      " Layer (type)                Output Shape              Param #   \n",
      "=================================================================\n",
      " input_2 (InputLayer)        [(None, 28, 28, 1)]       0         \n",
      "                                                                 \n",
      " conv2d_5 (Conv2D)           (None, 28, 28, 128)       1280      \n",
      "                                                                 \n",
      " activation_6 (Activation)   (None, 28, 28, 128)       0         \n",
      "                                                                 \n",
      " conv2d_6 (Conv2D)           (None, 28, 28, 64)        73792     \n",
      "                                                                 \n",
      " activation_7 (Activation)   (None, 28, 28, 64)        0         \n",
      "                                                                 \n",
      " batch_normalization_1 (Batc  (None, 28, 28, 64)       256       \n",
      " hNormalization)                                                 \n",
      "                                                                 \n",
      " conv2d_7 (Conv2D)           (None, 28, 28, 32)        18464     \n",
      "                                                                 \n",
      " activation_8 (Activation)   (None, 28, 28, 32)        0         \n",
      "                                                                 \n",
      " conv2d_8 (Conv2D)           (None, 28, 28, 32)        9248      \n",
      "                                                                 \n",
      " activation_9 (Activation)   (None, 28, 28, 32)        0         \n",
      "                                                                 \n",
      " max_pooling2d_2 (MaxPooling  (None, 14, 14, 32)       0         \n",
      " 2D)                                                             \n",
      "                                                                 \n",
      " conv2d_9 (Conv2D)           (None, 14, 14, 16)        4624      \n",
      "                                                                 \n",
      " activation_10 (Activation)  (None, 14, 14, 16)        0         \n",
      "                                                                 \n",
      " max_pooling2d_3 (MaxPooling  (None, 7, 7, 16)         0         \n",
      " 2D)                                                             \n",
      "                                                                 \n",
      " flatten_1 (Flatten)         (None, 784)               0         \n",
      "                                                                 \n",
      " dense_1 (Dense)             (None, 10)                7850      \n",
      "                                                                 \n",
      " activation_11 (Activation)  (None, 10)                0         \n",
      "                                                                 \n",
      "=================================================================\n",
      "Total params: 115,514\n",
      "Trainable params: 115,386\n",
      "Non-trainable params: 128\n",
      "_________________________________________________________________\n"
     ]
    }
   ],
   "source": [
    "model.summary()"
   ]
  },
  {
   "cell_type": "code",
   "execution_count": 27,
   "id": "3f37908a",
   "metadata": {},
   "outputs": [
    {
     "name": "stdout",
     "output_type": "stream",
     "text": [
      "Epoch 1/10\n",
      "600/600 [==============================] - 7s 10ms/step - loss: 0.7465 - accuracy: 0.7509 - val_loss: 1.1034 - val_accuracy: 0.6381\n",
      "Epoch 2/10\n",
      "600/600 [==============================] - 6s 10ms/step - loss: 0.2090 - accuracy: 0.9379 - val_loss: 0.2059 - val_accuracy: 0.9364\n",
      "Epoch 3/10\n",
      "600/600 [==============================] - 6s 10ms/step - loss: 0.1598 - accuracy: 0.9539 - val_loss: 0.1864 - val_accuracy: 0.9447\n",
      "Epoch 4/10\n",
      "600/600 [==============================] - 6s 10ms/step - loss: 0.1322 - accuracy: 0.9610 - val_loss: 0.1720 - val_accuracy: 0.9502\n",
      "Epoch 5/10\n",
      "600/600 [==============================] - 6s 10ms/step - loss: 0.1130 - accuracy: 0.9677 - val_loss: 0.1165 - val_accuracy: 0.9654\n",
      "Epoch 6/10\n",
      "600/600 [==============================] - 6s 10ms/step - loss: 0.1002 - accuracy: 0.9705 - val_loss: 0.1094 - val_accuracy: 0.9670\n",
      "Epoch 7/10\n",
      "600/600 [==============================] - 6s 10ms/step - loss: 0.0915 - accuracy: 0.9737 - val_loss: 0.1139 - val_accuracy: 0.9647\n",
      "Epoch 8/10\n",
      "600/600 [==============================] - 6s 10ms/step - loss: 0.0826 - accuracy: 0.9764 - val_loss: 0.1018 - val_accuracy: 0.9682\n",
      "Epoch 9/10\n",
      "600/600 [==============================] - 6s 10ms/step - loss: 0.0747 - accuracy: 0.9778 - val_loss: 0.0854 - val_accuracy: 0.9724\n",
      "Epoch 10/10\n",
      "600/600 [==============================] - 6s 10ms/step - loss: 0.0707 - accuracy: 0.9791 - val_loss: 0.0934 - val_accuracy: 0.9705\n"
     ]
    }
   ],
   "source": [
    "history = model.fit(train_x, train_y, validation_split = 0.2, epochs = 10, batch_size=64)"
   ]
  },
  {
   "cell_type": "code",
   "execution_count": 28,
   "id": "a49bb5c3",
   "metadata": {},
   "outputs": [
    {
     "name": "stderr",
     "output_type": "stream",
     "text": [
      "C:\\Users\\adity\\miniconda3\\envs\\tfgpu\\lib\\site-packages\\seaborn\\_oldcore.py:1119: FutureWarning: use_inf_as_na option is deprecated and will be removed in a future version. Convert inf values to NaN before operating instead.\n",
      "  with pd.option_context('mode.use_inf_as_na', True):\n",
      "C:\\Users\\adity\\miniconda3\\envs\\tfgpu\\lib\\site-packages\\seaborn\\_oldcore.py:1119: FutureWarning: use_inf_as_na option is deprecated and will be removed in a future version. Convert inf values to NaN before operating instead.\n",
      "  with pd.option_context('mode.use_inf_as_na', True):\n",
      "C:\\Users\\adity\\miniconda3\\envs\\tfgpu\\lib\\site-packages\\seaborn\\_oldcore.py:1119: FutureWarning: use_inf_as_na option is deprecated and will be removed in a future version. Convert inf values to NaN before operating instead.\n",
      "  with pd.option_context('mode.use_inf_as_na', True):\n",
      "C:\\Users\\adity\\miniconda3\\envs\\tfgpu\\lib\\site-packages\\seaborn\\_oldcore.py:1119: FutureWarning: use_inf_as_na option is deprecated and will be removed in a future version. Convert inf values to NaN before operating instead.\n",
      "  with pd.option_context('mode.use_inf_as_na', True):\n",
      "C:\\Users\\adity\\miniconda3\\envs\\tfgpu\\lib\\site-packages\\seaborn\\_oldcore.py:1119: FutureWarning: use_inf_as_na option is deprecated and will be removed in a future version. Convert inf values to NaN before operating instead.\n",
      "  with pd.option_context('mode.use_inf_as_na', True):\n",
      "C:\\Users\\adity\\miniconda3\\envs\\tfgpu\\lib\\site-packages\\seaborn\\_oldcore.py:1119: FutureWarning: use_inf_as_na option is deprecated and will be removed in a future version. Convert inf values to NaN before operating instead.\n",
      "  with pd.option_context('mode.use_inf_as_na', True):\n",
      "C:\\Users\\adity\\miniconda3\\envs\\tfgpu\\lib\\site-packages\\seaborn\\_oldcore.py:1119: FutureWarning: use_inf_as_na option is deprecated and will be removed in a future version. Convert inf values to NaN before operating instead.\n",
      "  with pd.option_context('mode.use_inf_as_na', True):\n",
      "C:\\Users\\adity\\miniconda3\\envs\\tfgpu\\lib\\site-packages\\seaborn\\_oldcore.py:1119: FutureWarning: use_inf_as_na option is deprecated and will be removed in a future version. Convert inf values to NaN before operating instead.\n",
      "  with pd.option_context('mode.use_inf_as_na', True):\n"
     ]
    },
    {
     "data": {
      "image/png": "[encoded data removed]",
      "text/plain": [
       "<Figure size 1200x400 with 2 Axes>"
      ]
     },
     "metadata": {},
     "output_type": "display_data"
    }
   ],
   "source": [
    "fig, axes = plt.subplots(1, 2, figsize = (12, 4))\n",
    "\n",
    "sns.lineplot(x = range(len(history.history[\"loss\"])), y = history.history[\"loss\"], ax = axes[0], label = \"Training Loss\")\n",
    "sns.lineplot(x = range(len(history.history[\"loss\"])), y = history.history[\"val_loss\"], ax = axes[0], label = \"Validation Loss\")\n",
    "\n",
    "sns.lineplot(x = range(len(history.history[\"accuracy\"])), y = history.history[\"accuracy\"], ax = axes[1], label = \"Training Accuracy\")\n",
    "sns.lineplot(x = range(len(history.history[\"accuracy\"])), y = history.history[\"val_accuracy\"], ax = axes[1], label = \"Validation Accuracy\")\n",
    "axes[0].set_title(\"Loss\"); axes[1].set_title(\"Accuracy\")\n",
    "\n",
    "sns.despine()\n",
    "plt.show()"
   ]
  },
  {
   "cell_type": "code",
   "execution_count": 29,
   "id": "84a727bf",
   "metadata": {},
   "outputs": [
    {
     "name": "stdout",
     "output_type": "stream",
     "text": [
      "313/313 [==============================] - 1s 3ms/step - loss: 1623.3676 - accuracy: 0.9684\n"
     ]
    },
    {
     "data": {
      "text/plain": [
       "0.9684000015258789"
      ]
     },
     "execution_count": 29,
     "metadata": {},
     "output_type": "execute_result"
    }
   ],
   "source": [
    "model.evaluate(x_test, y_test)[1]"
   ]
  },
  {
   "cell_type": "code",
   "execution_count": 30,
   "id": "89c5962a-30df-4581-afdb-2dab2e69e34f",
   "metadata": {},
   "outputs": [],
   "source": [
    "model_json = model.to_json()"
   ]
  },
  {
   "cell_type": "code",
   "execution_count": 31,
   "id": "c9e930c6-2f5c-4194-a7d3-f67bfa28481e",
   "metadata": {},
   "outputs": [],
   "source": [
    "with open('model_json.json','w') as json_file:\n",
    "    json_file.write(model_json)"
   ]
  },
  {
   "cell_type": "code",
   "execution_count": 32,
   "id": "d365f584-9e60-4bdd-a3b3-dc84eb79057b",
   "metadata": {},
   "outputs": [],
   "source": [
    "model.save_weights('model.h5')"
   ]
  },
  {
   "cell_type": "code",
   "execution_count": 35,
   "id": "46ea0524-5e57-4f99-8129-74e08f104f26",
   "metadata": {},
   "outputs": [
    {
     "name": "stdout",
     "output_type": "stream",
     "text": [
      "1/1 [==============================] - 0s 337ms/step\n"
     ]
    },
    {
     "data": {
      "text/plain": [
       "array([[0., 0., 0., 0., 0., 0., 0., 1., 0., 0.]], dtype=float32)"
      ]
     },
     "execution_count": 35,
     "metadata": {},
     "output_type": "execute_result"
    }
   ],
   "source": [
    "import numpy as np\n",
    "img_resized = np.resize(x_test[0], (28, 28, 1))\n",
    "img = np.expand_dims(img_resized, axis=0)\n",
    "img = img/255.0\n",
    "model.predict(img)"
   ]
  },
  {
   "cell_type": "code",
   "execution_count": 37,
   "id": "31f31862-4c01-4ceb-9e5f-ea9aa38e544d",
   "metadata": {},
   "outputs": [
    {
     "data": {
      "text/plain": [
       "<matplotlib.image.AxesImage at 0x1b9981a48e0>"
      ]
     },
     "execution_count": 37,
     "metadata": {},
     "output_type": "execute_result"
    },
    {
     "data": {
      "image/png": "[encoded data removed]",
      "text/plain": [
       "<Figure size 640x480 with 1 Axes>"
      ]
     },
     "metadata": {},
     "output_type": "display_data"
    }
   ],
   "source": [
    "import matplotlib.pyplot as plt\n",
    "plt.imshow(x_test[0])"
   ]
  },
  {
   "cell_type": "code",
   "execution_count": null,
   "id": "d6dceca5-a8ee-4b5d-af8b-5a4aab013fab",
   "metadata": {},
   "outputs": [],
   "source": []
  }
 ],
 "metadata": {
  "kernelspec": {
   "display_name": "'TFGPU'",
   "language": "python",
   "name": "tfgpu"
  },
  "language_info": {
   "codemirror_mode": {
    "name": "ipython",
    "version": 3
   },
   "file_extension": ".py",
   "mimetype": "text/x-python",
   "name": "python",
   "nbconvert_exporter": "python",
   "pygments_lexer": "ipython3",
   "version": "3.10.0"
  }
 },
 "nbformat": 4,
 "nbformat_minor": 5
}
