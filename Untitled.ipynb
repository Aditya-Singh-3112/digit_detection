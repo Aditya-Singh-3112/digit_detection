{
 "cells": [
  {
   "cell_type": "code",
   "execution_count": 1,
   "id": "12606811-875c-484c-9afb-a3914b5bb672",
   "metadata": {},
   "outputs": [],
   "source": [
    "import numpy as np\n",
    "import gradio as gr\n",
    "import tensorflow\n",
    "from tensorflow.keras.models import model_from_json"
   ]
  },
  {
   "cell_type": "code",
   "execution_count": 2,
   "id": "a503fbee-a3cc-4ba0-94bd-9110f804521a",
   "metadata": {},
   "outputs": [],
   "source": [
    "with open('model_json.json', 'r') as f:\n",
    "    model_json = f.read()"
   ]
  },
  {
   "cell_type": "code",
   "execution_count": 3,
   "id": "dd00569e-0be6-4d4b-b1e9-a765308afd19",
   "metadata": {},
   "outputs": [],
   "source": [
    "model = model_from_json(model_json)"
   ]
  },
  {
   "cell_type": "code",
   "execution_count": 4,
   "id": "defa9aa4-9909-4dfa-b971-ff36f579343c",
   "metadata": {},
   "outputs": [],
   "source": [
    "model.load_weights('model.h5')"
   ]
  },
  {
   "cell_type": "code",
   "execution_count": 5,
   "id": "13f030b4-896f-4493-b8ba-c07fa792b8bd",
   "metadata": {},
   "outputs": [],
   "source": [
    "def driver_fn(img):\n",
    "    img_resized = np.resize(img, (28, 28, 1))\n",
    "    img = np.expand_dims(img_resized, axis=0)\n",
    "    img = img/255.0\n",
    "    y = model.predict(img)\n",
    "    return {str(i) : float(y[0][i]) for i in range(10)}"
   ]
  },
  {
   "cell_type": "code",
   "execution_count": 7,
   "id": "1231b83c-81f5-4658-be5c-1fcf80a66677",
   "metadata": {},
   "outputs": [],
   "source": [
    "ui = gr.Interface(fn = driver_fn, inputs = 'sketchpad', outputs = 'label', live = True)"
   ]
  },
  {
   "cell_type": "code",
   "execution_count": 8,
   "id": "8b591762-81b5-4396-a711-b1d3d60f720e",
   "metadata": {},
   "outputs": [
    {
     "name": "stdout",
     "output_type": "stream",
     "text": [
      "Running on local URL:  http://127.0.0.1:7860\n",
      "\n",
      "To create a public link, set `share=True` in `launch()`.\n"
     ]
    },
    {
     "data": {
      "text/html": [
       "<div><iframe src=\"http://127.0.0.1:7860/\" width=\"100%\" height=\"500\" allow=\"autoplay; camera; microphone; clipboard-read; clipboard-write;\" frameborder=\"0\" allowfullscreen></iframe></div>"
      ],
      "text/plain": [
       "<IPython.core.display.HTML object>"
      ]
     },
     "metadata": {},
     "output_type": "display_data"
    },
    {
     "data": {
      "text/plain": []
     },
     "execution_count": 8,
     "metadata": {},
     "output_type": "execute_result"
    },
    {
     "name": "stdout",
     "output_type": "stream",
     "text": [
      "1/1 [==============================] - 1s 1s/step\n"
     ]
    },
    {
     "name": "stderr",
     "output_type": "stream",
     "text": [
      "C:\\Users\\adity\\miniconda3\\envs\\tfgpu\\lib\\site-packages\\gradio\\components\\button.py:89: UserWarning: Using the update method is deprecated. Simply return a new object instead, e.g. `return gr.Button(...)` instead of `return gr.Button.update(...)`.\n",
      "  warnings.warn(\n",
      "Traceback (most recent call last):\n",
      "  File \"C:\\Users\\adity\\miniconda3\\envs\\tfgpu\\lib\\site-packages\\gradio\\routes.py\", line 517, in predict\n",
      "    output = await route_utils.call_process_api(\n",
      "  File \"C:\\Users\\adity\\miniconda3\\envs\\tfgpu\\lib\\site-packages\\gradio\\route_utils.py\", line 216, in call_process_api\n",
      "    output = await app.get_blocks().process_api(\n",
      "  File \"C:\\Users\\adity\\miniconda3\\envs\\tfgpu\\lib\\site-packages\\gradio\\blocks.py\", line 1555, in process_api\n",
      "    result = await self.call_function(\n",
      "  File \"C:\\Users\\adity\\miniconda3\\envs\\tfgpu\\lib\\site-packages\\gradio\\blocks.py\", line 1193, in call_function\n",
      "    prediction = await anyio.to_thread.run_sync(\n",
      "  File \"C:\\Users\\adity\\miniconda3\\envs\\tfgpu\\lib\\site-packages\\anyio\\to_thread.py\", line 33, in run_sync\n",
      "    return await get_asynclib().run_sync_in_worker_thread(\n",
      "  File \"C:\\Users\\adity\\miniconda3\\envs\\tfgpu\\lib\\site-packages\\anyio\\_backends\\_asyncio.py\", line 877, in run_sync_in_worker_thread\n",
      "    return await future\n",
      "  File \"C:\\Users\\adity\\miniconda3\\envs\\tfgpu\\lib\\site-packages\\anyio\\_backends\\_asyncio.py\", line 807, in run\n",
      "    result = context.run(func, *args)\n",
      "  File \"C:\\Users\\adity\\miniconda3\\envs\\tfgpu\\lib\\site-packages\\gradio\\utils.py\", line 654, in wrapper\n",
      "    response = f(*args, **kwargs)\n",
      "  File \"C:\\Users\\adity\\AppData\\Local\\Temp\\ipykernel_24528\\1151941526.py\", line 4, in driver_fn\n",
      "    img = img/255.0\n",
      "TypeError: unsupported operand type(s) for /: 'NoneType' and 'float'\n"
     ]
    },
    {
     "name": "stdout",
     "output_type": "stream",
     "text": [
      "1/1 [==============================] - 0s 19ms/step\n"
     ]
    },
    {
     "name": "stderr",
     "output_type": "stream",
     "text": [
      "C:\\Users\\adity\\miniconda3\\envs\\tfgpu\\lib\\site-packages\\gradio\\components\\button.py:89: UserWarning: Using the update method is deprecated. Simply return a new object instead, e.g. `return gr.Button(...)` instead of `return gr.Button.update(...)`.\n",
      "  warnings.warn(\n",
      "Traceback (most recent call last):\n",
      "  File \"C:\\Users\\adity\\miniconda3\\envs\\tfgpu\\lib\\site-packages\\gradio\\routes.py\", line 517, in predict\n",
      "    output = await route_utils.call_process_api(\n",
      "  File \"C:\\Users\\adity\\miniconda3\\envs\\tfgpu\\lib\\site-packages\\gradio\\route_utils.py\", line 216, in call_process_api\n",
      "    output = await app.get_blocks().process_api(\n",
      "  File \"C:\\Users\\adity\\miniconda3\\envs\\tfgpu\\lib\\site-packages\\gradio\\blocks.py\", line 1555, in process_api\n",
      "    result = await self.call_function(\n",
      "  File \"C:\\Users\\adity\\miniconda3\\envs\\tfgpu\\lib\\site-packages\\gradio\\blocks.py\", line 1193, in call_function\n",
      "    prediction = await anyio.to_thread.run_sync(\n",
      "  File \"C:\\Users\\adity\\miniconda3\\envs\\tfgpu\\lib\\site-packages\\anyio\\to_thread.py\", line 33, in run_sync\n",
      "    return await get_asynclib().run_sync_in_worker_thread(\n",
      "  File \"C:\\Users\\adity\\miniconda3\\envs\\tfgpu\\lib\\site-packages\\anyio\\_backends\\_asyncio.py\", line 877, in run_sync_in_worker_thread\n",
      "    return await future\n",
      "  File \"C:\\Users\\adity\\miniconda3\\envs\\tfgpu\\lib\\site-packages\\anyio\\_backends\\_asyncio.py\", line 807, in run\n",
      "    result = context.run(func, *args)\n",
      "  File \"C:\\Users\\adity\\miniconda3\\envs\\tfgpu\\lib\\site-packages\\gradio\\utils.py\", line 654, in wrapper\n",
      "    response = f(*args, **kwargs)\n",
      "  File \"C:\\Users\\adity\\AppData\\Local\\Temp\\ipykernel_24528\\1151941526.py\", line 4, in driver_fn\n",
      "    img = img/255.0\n",
      "TypeError: unsupported operand type(s) for /: 'NoneType' and 'float'\n"
     ]
    },
    {
     "name": "stdout",
     "output_type": "stream",
     "text": [
      "1/1 [==============================] - 0s 16ms/step\n"
     ]
    },
    {
     "name": "stderr",
     "output_type": "stream",
     "text": [
      "C:\\Users\\adity\\miniconda3\\envs\\tfgpu\\lib\\site-packages\\gradio\\components\\button.py:89: UserWarning: Using the update method is deprecated. Simply return a new object instead, e.g. `return gr.Button(...)` instead of `return gr.Button.update(...)`.\n",
      "  warnings.warn(\n",
      "Traceback (most recent call last):\n",
      "  File \"C:\\Users\\adity\\miniconda3\\envs\\tfgpu\\lib\\site-packages\\gradio\\routes.py\", line 517, in predict\n",
      "    output = await route_utils.call_process_api(\n",
      "  File \"C:\\Users\\adity\\miniconda3\\envs\\tfgpu\\lib\\site-packages\\gradio\\route_utils.py\", line 216, in call_process_api\n",
      "    output = await app.get_blocks().process_api(\n",
      "  File \"C:\\Users\\adity\\miniconda3\\envs\\tfgpu\\lib\\site-packages\\gradio\\blocks.py\", line 1555, in process_api\n",
      "    result = await self.call_function(\n",
      "  File \"C:\\Users\\adity\\miniconda3\\envs\\tfgpu\\lib\\site-packages\\gradio\\blocks.py\", line 1193, in call_function\n",
      "    prediction = await anyio.to_thread.run_sync(\n",
      "  File \"C:\\Users\\adity\\miniconda3\\envs\\tfgpu\\lib\\site-packages\\anyio\\to_thread.py\", line 33, in run_sync\n",
      "    return await get_asynclib().run_sync_in_worker_thread(\n",
      "  File \"C:\\Users\\adity\\miniconda3\\envs\\tfgpu\\lib\\site-packages\\anyio\\_backends\\_asyncio.py\", line 877, in run_sync_in_worker_thread\n",
      "    return await future\n",
      "  File \"C:\\Users\\adity\\miniconda3\\envs\\tfgpu\\lib\\site-packages\\anyio\\_backends\\_asyncio.py\", line 807, in run\n",
      "    result = context.run(func, *args)\n",
      "  File \"C:\\Users\\adity\\miniconda3\\envs\\tfgpu\\lib\\site-packages\\gradio\\utils.py\", line 654, in wrapper\n",
      "    response = f(*args, **kwargs)\n",
      "  File \"C:\\Users\\adity\\AppData\\Local\\Temp\\ipykernel_24528\\1151941526.py\", line 4, in driver_fn\n",
      "    img = img/255.0\n",
      "TypeError: unsupported operand type(s) for /: 'NoneType' and 'float'\n"
     ]
    },
    {
     "name": "stdout",
     "output_type": "stream",
     "text": [
      "1/1 [==============================] - 0s 16ms/step\n"
     ]
    },
    {
     "name": "stderr",
     "output_type": "stream",
     "text": [
      "C:\\Users\\adity\\miniconda3\\envs\\tfgpu\\lib\\site-packages\\gradio\\components\\button.py:89: UserWarning: Using the update method is deprecated. Simply return a new object instead, e.g. `return gr.Button(...)` instead of `return gr.Button.update(...)`.\n",
      "  warnings.warn(\n",
      "Traceback (most recent call last):\n",
      "  File \"C:\\Users\\adity\\miniconda3\\envs\\tfgpu\\lib\\site-packages\\gradio\\routes.py\", line 517, in predict\n",
      "    output = await route_utils.call_process_api(\n",
      "  File \"C:\\Users\\adity\\miniconda3\\envs\\tfgpu\\lib\\site-packages\\gradio\\route_utils.py\", line 216, in call_process_api\n",
      "    output = await app.get_blocks().process_api(\n",
      "  File \"C:\\Users\\adity\\miniconda3\\envs\\tfgpu\\lib\\site-packages\\gradio\\blocks.py\", line 1555, in process_api\n",
      "    result = await self.call_function(\n",
      "  File \"C:\\Users\\adity\\miniconda3\\envs\\tfgpu\\lib\\site-packages\\gradio\\blocks.py\", line 1193, in call_function\n",
      "    prediction = await anyio.to_thread.run_sync(\n",
      "  File \"C:\\Users\\adity\\miniconda3\\envs\\tfgpu\\lib\\site-packages\\anyio\\to_thread.py\", line 33, in run_sync\n",
      "    return await get_asynclib().run_sync_in_worker_thread(\n",
      "  File \"C:\\Users\\adity\\miniconda3\\envs\\tfgpu\\lib\\site-packages\\anyio\\_backends\\_asyncio.py\", line 877, in run_sync_in_worker_thread\n",
      "    return await future\n",
      "  File \"C:\\Users\\adity\\miniconda3\\envs\\tfgpu\\lib\\site-packages\\anyio\\_backends\\_asyncio.py\", line 807, in run\n",
      "    result = context.run(func, *args)\n",
      "  File \"C:\\Users\\adity\\miniconda3\\envs\\tfgpu\\lib\\site-packages\\gradio\\utils.py\", line 654, in wrapper\n",
      "    response = f(*args, **kwargs)\n",
      "  File \"C:\\Users\\adity\\AppData\\Local\\Temp\\ipykernel_24528\\1151941526.py\", line 4, in driver_fn\n",
      "    img = img/255.0\n",
      "TypeError: unsupported operand type(s) for /: 'NoneType' and 'float'\n"
     ]
    },
    {
     "name": "stdout",
     "output_type": "stream",
     "text": [
      "1/1 [==============================] - 0s 16ms/step\n"
     ]
    },
    {
     "name": "stderr",
     "output_type": "stream",
     "text": [
      "C:\\Users\\adity\\miniconda3\\envs\\tfgpu\\lib\\site-packages\\gradio\\components\\button.py:89: UserWarning: Using the update method is deprecated. Simply return a new object instead, e.g. `return gr.Button(...)` instead of `return gr.Button.update(...)`.\n",
      "  warnings.warn(\n",
      "Traceback (most recent call last):\n",
      "  File \"C:\\Users\\adity\\miniconda3\\envs\\tfgpu\\lib\\site-packages\\gradio\\routes.py\", line 517, in predict\n",
      "    output = await route_utils.call_process_api(\n",
      "  File \"C:\\Users\\adity\\miniconda3\\envs\\tfgpu\\lib\\site-packages\\gradio\\route_utils.py\", line 216, in call_process_api\n",
      "    output = await app.get_blocks().process_api(\n",
      "  File \"C:\\Users\\adity\\miniconda3\\envs\\tfgpu\\lib\\site-packages\\gradio\\blocks.py\", line 1555, in process_api\n",
      "    result = await self.call_function(\n",
      "  File \"C:\\Users\\adity\\miniconda3\\envs\\tfgpu\\lib\\site-packages\\gradio\\blocks.py\", line 1193, in call_function\n",
      "    prediction = await anyio.to_thread.run_sync(\n",
      "  File \"C:\\Users\\adity\\miniconda3\\envs\\tfgpu\\lib\\site-packages\\anyio\\to_thread.py\", line 33, in run_sync\n",
      "    return await get_asynclib().run_sync_in_worker_thread(\n",
      "  File \"C:\\Users\\adity\\miniconda3\\envs\\tfgpu\\lib\\site-packages\\anyio\\_backends\\_asyncio.py\", line 877, in run_sync_in_worker_thread\n",
      "    return await future\n",
      "  File \"C:\\Users\\adity\\miniconda3\\envs\\tfgpu\\lib\\site-packages\\anyio\\_backends\\_asyncio.py\", line 807, in run\n",
      "    result = context.run(func, *args)\n",
      "  File \"C:\\Users\\adity\\miniconda3\\envs\\tfgpu\\lib\\site-packages\\gradio\\utils.py\", line 654, in wrapper\n",
      "    response = f(*args, **kwargs)\n",
      "  File \"C:\\Users\\adity\\AppData\\Local\\Temp\\ipykernel_24528\\1151941526.py\", line 4, in driver_fn\n",
      "    img = img/255.0\n",
      "TypeError: unsupported operand type(s) for /: 'NoneType' and 'float'\n"
     ]
    },
    {
     "name": "stdout",
     "output_type": "stream",
     "text": [
      "1/1 [==============================] - 0s 17ms/step\n"
     ]
    },
    {
     "name": "stderr",
     "output_type": "stream",
     "text": [
      "C:\\Users\\adity\\miniconda3\\envs\\tfgpu\\lib\\site-packages\\gradio\\components\\button.py:89: UserWarning: Using the update method is deprecated. Simply return a new object instead, e.g. `return gr.Button(...)` instead of `return gr.Button.update(...)`.\n",
      "  warnings.warn(\n",
      "Traceback (most recent call last):\n",
      "  File \"C:\\Users\\adity\\miniconda3\\envs\\tfgpu\\lib\\site-packages\\gradio\\routes.py\", line 517, in predict\n",
      "    output = await route_utils.call_process_api(\n",
      "  File \"C:\\Users\\adity\\miniconda3\\envs\\tfgpu\\lib\\site-packages\\gradio\\route_utils.py\", line 216, in call_process_api\n",
      "    output = await app.get_blocks().process_api(\n",
      "  File \"C:\\Users\\adity\\miniconda3\\envs\\tfgpu\\lib\\site-packages\\gradio\\blocks.py\", line 1555, in process_api\n",
      "    result = await self.call_function(\n",
      "  File \"C:\\Users\\adity\\miniconda3\\envs\\tfgpu\\lib\\site-packages\\gradio\\blocks.py\", line 1193, in call_function\n",
      "    prediction = await anyio.to_thread.run_sync(\n",
      "  File \"C:\\Users\\adity\\miniconda3\\envs\\tfgpu\\lib\\site-packages\\anyio\\to_thread.py\", line 33, in run_sync\n",
      "    return await get_asynclib().run_sync_in_worker_thread(\n",
      "  File \"C:\\Users\\adity\\miniconda3\\envs\\tfgpu\\lib\\site-packages\\anyio\\_backends\\_asyncio.py\", line 877, in run_sync_in_worker_thread\n",
      "    return await future\n",
      "  File \"C:\\Users\\adity\\miniconda3\\envs\\tfgpu\\lib\\site-packages\\anyio\\_backends\\_asyncio.py\", line 807, in run\n",
      "    result = context.run(func, *args)\n",
      "  File \"C:\\Users\\adity\\miniconda3\\envs\\tfgpu\\lib\\site-packages\\gradio\\utils.py\", line 654, in wrapper\n",
      "    response = f(*args, **kwargs)\n",
      "  File \"C:\\Users\\adity\\AppData\\Local\\Temp\\ipykernel_24528\\1151941526.py\", line 4, in driver_fn\n",
      "    img = img/255.0\n",
      "TypeError: unsupported operand type(s) for /: 'NoneType' and 'float'\n"
     ]
    },
    {
     "name": "stdout",
     "output_type": "stream",
     "text": [
      "1/1 [==============================] - 0s 16ms/step\n"
     ]
    },
    {
     "name": "stderr",
     "output_type": "stream",
     "text": [
      "C:\\Users\\adity\\miniconda3\\envs\\tfgpu\\lib\\site-packages\\gradio\\components\\button.py:89: UserWarning: Using the update method is deprecated. Simply return a new object instead, e.g. `return gr.Button(...)` instead of `return gr.Button.update(...)`.\n",
      "  warnings.warn(\n",
      "Traceback (most recent call last):\n",
      "  File \"C:\\Users\\adity\\miniconda3\\envs\\tfgpu\\lib\\site-packages\\gradio\\routes.py\", line 517, in predict\n",
      "    output = await route_utils.call_process_api(\n",
      "  File \"C:\\Users\\adity\\miniconda3\\envs\\tfgpu\\lib\\site-packages\\gradio\\route_utils.py\", line 216, in call_process_api\n",
      "    output = await app.get_blocks().process_api(\n",
      "  File \"C:\\Users\\adity\\miniconda3\\envs\\tfgpu\\lib\\site-packages\\gradio\\blocks.py\", line 1555, in process_api\n",
      "    result = await self.call_function(\n",
      "  File \"C:\\Users\\adity\\miniconda3\\envs\\tfgpu\\lib\\site-packages\\gradio\\blocks.py\", line 1193, in call_function\n",
      "    prediction = await anyio.to_thread.run_sync(\n",
      "  File \"C:\\Users\\adity\\miniconda3\\envs\\tfgpu\\lib\\site-packages\\anyio\\to_thread.py\", line 33, in run_sync\n",
      "    return await get_asynclib().run_sync_in_worker_thread(\n",
      "  File \"C:\\Users\\adity\\miniconda3\\envs\\tfgpu\\lib\\site-packages\\anyio\\_backends\\_asyncio.py\", line 877, in run_sync_in_worker_thread\n",
      "    return await future\n",
      "  File \"C:\\Users\\adity\\miniconda3\\envs\\tfgpu\\lib\\site-packages\\anyio\\_backends\\_asyncio.py\", line 807, in run\n",
      "    result = context.run(func, *args)\n",
      "  File \"C:\\Users\\adity\\miniconda3\\envs\\tfgpu\\lib\\site-packages\\gradio\\utils.py\", line 654, in wrapper\n",
      "    response = f(*args, **kwargs)\n",
      "  File \"C:\\Users\\adity\\AppData\\Local\\Temp\\ipykernel_24528\\1151941526.py\", line 4, in driver_fn\n",
      "    img = img/255.0\n",
      "TypeError: unsupported operand type(s) for /: 'NoneType' and 'float'\n"
     ]
    },
    {
     "name": "stdout",
     "output_type": "stream",
     "text": [
      "1/1 [==============================] - 0s 21ms/step\n"
     ]
    },
    {
     "name": "stderr",
     "output_type": "stream",
     "text": [
      "C:\\Users\\adity\\miniconda3\\envs\\tfgpu\\lib\\site-packages\\gradio\\components\\button.py:89: UserWarning: Using the update method is deprecated. Simply return a new object instead, e.g. `return gr.Button(...)` instead of `return gr.Button.update(...)`.\n",
      "  warnings.warn(\n",
      "Traceback (most recent call last):\n",
      "  File \"C:\\Users\\adity\\miniconda3\\envs\\tfgpu\\lib\\site-packages\\gradio\\routes.py\", line 517, in predict\n",
      "    output = await route_utils.call_process_api(\n",
      "  File \"C:\\Users\\adity\\miniconda3\\envs\\tfgpu\\lib\\site-packages\\gradio\\route_utils.py\", line 216, in call_process_api\n",
      "    output = await app.get_blocks().process_api(\n",
      "  File \"C:\\Users\\adity\\miniconda3\\envs\\tfgpu\\lib\\site-packages\\gradio\\blocks.py\", line 1555, in process_api\n",
      "    result = await self.call_function(\n",
      "  File \"C:\\Users\\adity\\miniconda3\\envs\\tfgpu\\lib\\site-packages\\gradio\\blocks.py\", line 1193, in call_function\n",
      "    prediction = await anyio.to_thread.run_sync(\n",
      "  File \"C:\\Users\\adity\\miniconda3\\envs\\tfgpu\\lib\\site-packages\\anyio\\to_thread.py\", line 33, in run_sync\n",
      "    return await get_asynclib().run_sync_in_worker_thread(\n",
      "  File \"C:\\Users\\adity\\miniconda3\\envs\\tfgpu\\lib\\site-packages\\anyio\\_backends\\_asyncio.py\", line 877, in run_sync_in_worker_thread\n",
      "    return await future\n",
      "  File \"C:\\Users\\adity\\miniconda3\\envs\\tfgpu\\lib\\site-packages\\anyio\\_backends\\_asyncio.py\", line 807, in run\n",
      "    result = context.run(func, *args)\n",
      "  File \"C:\\Users\\adity\\miniconda3\\envs\\tfgpu\\lib\\site-packages\\gradio\\utils.py\", line 654, in wrapper\n",
      "    response = f(*args, **kwargs)\n",
      "  File \"C:\\Users\\adity\\AppData\\Local\\Temp\\ipykernel_24528\\1151941526.py\", line 4, in driver_fn\n",
      "    img = img/255.0\n",
      "TypeError: unsupported operand type(s) for /: 'NoneType' and 'float'\n"
     ]
    },
    {
     "name": "stdout",
     "output_type": "stream",
     "text": [
      "1/1 [==============================] - 0s 19ms/step\n"
     ]
    },
    {
     "name": "stderr",
     "output_type": "stream",
     "text": [
      "C:\\Users\\adity\\miniconda3\\envs\\tfgpu\\lib\\site-packages\\gradio\\components\\button.py:89: UserWarning: Using the update method is deprecated. Simply return a new object instead, e.g. `return gr.Button(...)` instead of `return gr.Button.update(...)`.\n",
      "  warnings.warn(\n",
      "Traceback (most recent call last):\n",
      "  File \"C:\\Users\\adity\\miniconda3\\envs\\tfgpu\\lib\\site-packages\\gradio\\routes.py\", line 517, in predict\n",
      "    output = await route_utils.call_process_api(\n",
      "  File \"C:\\Users\\adity\\miniconda3\\envs\\tfgpu\\lib\\site-packages\\gradio\\route_utils.py\", line 216, in call_process_api\n",
      "    output = await app.get_blocks().process_api(\n",
      "  File \"C:\\Users\\adity\\miniconda3\\envs\\tfgpu\\lib\\site-packages\\gradio\\blocks.py\", line 1555, in process_api\n",
      "    result = await self.call_function(\n",
      "  File \"C:\\Users\\adity\\miniconda3\\envs\\tfgpu\\lib\\site-packages\\gradio\\blocks.py\", line 1193, in call_function\n",
      "    prediction = await anyio.to_thread.run_sync(\n",
      "  File \"C:\\Users\\adity\\miniconda3\\envs\\tfgpu\\lib\\site-packages\\anyio\\to_thread.py\", line 33, in run_sync\n",
      "    return await get_asynclib().run_sync_in_worker_thread(\n",
      "  File \"C:\\Users\\adity\\miniconda3\\envs\\tfgpu\\lib\\site-packages\\anyio\\_backends\\_asyncio.py\", line 877, in run_sync_in_worker_thread\n",
      "    return await future\n",
      "  File \"C:\\Users\\adity\\miniconda3\\envs\\tfgpu\\lib\\site-packages\\anyio\\_backends\\_asyncio.py\", line 807, in run\n",
      "    result = context.run(func, *args)\n",
      "  File \"C:\\Users\\adity\\miniconda3\\envs\\tfgpu\\lib\\site-packages\\gradio\\utils.py\", line 654, in wrapper\n",
      "    response = f(*args, **kwargs)\n",
      "  File \"C:\\Users\\adity\\AppData\\Local\\Temp\\ipykernel_24528\\1151941526.py\", line 4, in driver_fn\n",
      "    img = img/255.0\n",
      "TypeError: unsupported operand type(s) for /: 'NoneType' and 'float'\n"
     ]
    },
    {
     "name": "stdout",
     "output_type": "stream",
     "text": [
      "1/1 [==============================] - 0s 16ms/step\n"
     ]
    },
    {
     "name": "stderr",
     "output_type": "stream",
     "text": [
      "C:\\Users\\adity\\miniconda3\\envs\\tfgpu\\lib\\site-packages\\gradio\\components\\button.py:89: UserWarning: Using the update method is deprecated. Simply return a new object instead, e.g. `return gr.Button(...)` instead of `return gr.Button.update(...)`.\n",
      "  warnings.warn(\n",
      "Traceback (most recent call last):\n",
      "  File \"C:\\Users\\adity\\miniconda3\\envs\\tfgpu\\lib\\site-packages\\gradio\\routes.py\", line 517, in predict\n",
      "    output = await route_utils.call_process_api(\n",
      "  File \"C:\\Users\\adity\\miniconda3\\envs\\tfgpu\\lib\\site-packages\\gradio\\route_utils.py\", line 216, in call_process_api\n",
      "    output = await app.get_blocks().process_api(\n",
      "  File \"C:\\Users\\adity\\miniconda3\\envs\\tfgpu\\lib\\site-packages\\gradio\\blocks.py\", line 1555, in process_api\n",
      "    result = await self.call_function(\n",
      "  File \"C:\\Users\\adity\\miniconda3\\envs\\tfgpu\\lib\\site-packages\\gradio\\blocks.py\", line 1193, in call_function\n",
      "    prediction = await anyio.to_thread.run_sync(\n",
      "  File \"C:\\Users\\adity\\miniconda3\\envs\\tfgpu\\lib\\site-packages\\anyio\\to_thread.py\", line 33, in run_sync\n",
      "    return await get_asynclib().run_sync_in_worker_thread(\n",
      "  File \"C:\\Users\\adity\\miniconda3\\envs\\tfgpu\\lib\\site-packages\\anyio\\_backends\\_asyncio.py\", line 877, in run_sync_in_worker_thread\n",
      "    return await future\n",
      "  File \"C:\\Users\\adity\\miniconda3\\envs\\tfgpu\\lib\\site-packages\\anyio\\_backends\\_asyncio.py\", line 807, in run\n",
      "    result = context.run(func, *args)\n",
      "  File \"C:\\Users\\adity\\miniconda3\\envs\\tfgpu\\lib\\site-packages\\gradio\\utils.py\", line 654, in wrapper\n",
      "    response = f(*args, **kwargs)\n",
      "  File \"C:\\Users\\adity\\AppData\\Local\\Temp\\ipykernel_24528\\1151941526.py\", line 4, in driver_fn\n",
      "    img = img/255.0\n",
      "TypeError: unsupported operand type(s) for /: 'NoneType' and 'float'\n"
     ]
    },
    {
     "name": "stdout",
     "output_type": "stream",
     "text": [
      "1/1 [==============================] - 0s 16ms/step\n"
     ]
    },
    {
     "name": "stderr",
     "output_type": "stream",
     "text": [
      "C:\\Users\\adity\\miniconda3\\envs\\tfgpu\\lib\\site-packages\\gradio\\components\\button.py:89: UserWarning: Using the update method is deprecated. Simply return a new object instead, e.g. `return gr.Button(...)` instead of `return gr.Button.update(...)`.\n",
      "  warnings.warn(\n",
      "Traceback (most recent call last):\n",
      "  File \"C:\\Users\\adity\\miniconda3\\envs\\tfgpu\\lib\\site-packages\\gradio\\routes.py\", line 517, in predict\n",
      "    output = await route_utils.call_process_api(\n",
      "  File \"C:\\Users\\adity\\miniconda3\\envs\\tfgpu\\lib\\site-packages\\gradio\\route_utils.py\", line 216, in call_process_api\n",
      "    output = await app.get_blocks().process_api(\n",
      "  File \"C:\\Users\\adity\\miniconda3\\envs\\tfgpu\\lib\\site-packages\\gradio\\blocks.py\", line 1555, in process_api\n",
      "    result = await self.call_function(\n",
      "  File \"C:\\Users\\adity\\miniconda3\\envs\\tfgpu\\lib\\site-packages\\gradio\\blocks.py\", line 1193, in call_function\n",
      "    prediction = await anyio.to_thread.run_sync(\n",
      "  File \"C:\\Users\\adity\\miniconda3\\envs\\tfgpu\\lib\\site-packages\\anyio\\to_thread.py\", line 33, in run_sync\n",
      "    return await get_asynclib().run_sync_in_worker_thread(\n",
      "  File \"C:\\Users\\adity\\miniconda3\\envs\\tfgpu\\lib\\site-packages\\anyio\\_backends\\_asyncio.py\", line 877, in run_sync_in_worker_thread\n",
      "    return await future\n",
      "  File \"C:\\Users\\adity\\miniconda3\\envs\\tfgpu\\lib\\site-packages\\anyio\\_backends\\_asyncio.py\", line 807, in run\n",
      "    result = context.run(func, *args)\n",
      "  File \"C:\\Users\\adity\\miniconda3\\envs\\tfgpu\\lib\\site-packages\\gradio\\utils.py\", line 654, in wrapper\n",
      "    response = f(*args, **kwargs)\n",
      "  File \"C:\\Users\\adity\\AppData\\Local\\Temp\\ipykernel_24528\\1151941526.py\", line 4, in driver_fn\n",
      "    img = img/255.0\n",
      "TypeError: unsupported operand type(s) for /: 'NoneType' and 'float'\n"
     ]
    },
    {
     "name": "stdout",
     "output_type": "stream",
     "text": [
      "1/1 [==============================] - 0s 18ms/step\n"
     ]
    },
    {
     "name": "stderr",
     "output_type": "stream",
     "text": [
      "C:\\Users\\adity\\miniconda3\\envs\\tfgpu\\lib\\site-packages\\gradio\\components\\button.py:89: UserWarning: Using the update method is deprecated. Simply return a new object instead, e.g. `return gr.Button(...)` instead of `return gr.Button.update(...)`.\n",
      "  warnings.warn(\n",
      "Traceback (most recent call last):\n",
      "  File \"C:\\Users\\adity\\miniconda3\\envs\\tfgpu\\lib\\site-packages\\gradio\\routes.py\", line 517, in predict\n",
      "    output = await route_utils.call_process_api(\n",
      "  File \"C:\\Users\\adity\\miniconda3\\envs\\tfgpu\\lib\\site-packages\\gradio\\route_utils.py\", line 216, in call_process_api\n",
      "    output = await app.get_blocks().process_api(\n",
      "  File \"C:\\Users\\adity\\miniconda3\\envs\\tfgpu\\lib\\site-packages\\gradio\\blocks.py\", line 1555, in process_api\n",
      "    result = await self.call_function(\n",
      "  File \"C:\\Users\\adity\\miniconda3\\envs\\tfgpu\\lib\\site-packages\\gradio\\blocks.py\", line 1193, in call_function\n",
      "    prediction = await anyio.to_thread.run_sync(\n",
      "  File \"C:\\Users\\adity\\miniconda3\\envs\\tfgpu\\lib\\site-packages\\anyio\\to_thread.py\", line 33, in run_sync\n",
      "    return await get_asynclib().run_sync_in_worker_thread(\n",
      "  File \"C:\\Users\\adity\\miniconda3\\envs\\tfgpu\\lib\\site-packages\\anyio\\_backends\\_asyncio.py\", line 877, in run_sync_in_worker_thread\n",
      "    return await future\n",
      "  File \"C:\\Users\\adity\\miniconda3\\envs\\tfgpu\\lib\\site-packages\\anyio\\_backends\\_asyncio.py\", line 807, in run\n",
      "    result = context.run(func, *args)\n",
      "  File \"C:\\Users\\adity\\miniconda3\\envs\\tfgpu\\lib\\site-packages\\gradio\\utils.py\", line 654, in wrapper\n",
      "    response = f(*args, **kwargs)\n",
      "  File \"C:\\Users\\adity\\AppData\\Local\\Temp\\ipykernel_24528\\1151941526.py\", line 4, in driver_fn\n",
      "    img = img/255.0\n",
      "TypeError: unsupported operand type(s) for /: 'NoneType' and 'float'\n"
     ]
    },
    {
     "name": "stdout",
     "output_type": "stream",
     "text": [
      "1/1 [==============================] - 0s 18ms/step\n"
     ]
    },
    {
     "name": "stderr",
     "output_type": "stream",
     "text": [
      "C:\\Users\\adity\\miniconda3\\envs\\tfgpu\\lib\\site-packages\\gradio\\components\\button.py:89: UserWarning: Using the update method is deprecated. Simply return a new object instead, e.g. `return gr.Button(...)` instead of `return gr.Button.update(...)`.\n",
      "  warnings.warn(\n",
      "Traceback (most recent call last):\n",
      "  File \"C:\\Users\\adity\\miniconda3\\envs\\tfgpu\\lib\\site-packages\\gradio\\routes.py\", line 517, in predict\n",
      "    output = await route_utils.call_process_api(\n",
      "  File \"C:\\Users\\adity\\miniconda3\\envs\\tfgpu\\lib\\site-packages\\gradio\\route_utils.py\", line 216, in call_process_api\n",
      "    output = await app.get_blocks().process_api(\n",
      "  File \"C:\\Users\\adity\\miniconda3\\envs\\tfgpu\\lib\\site-packages\\gradio\\blocks.py\", line 1555, in process_api\n",
      "    result = await self.call_function(\n",
      "  File \"C:\\Users\\adity\\miniconda3\\envs\\tfgpu\\lib\\site-packages\\gradio\\blocks.py\", line 1193, in call_function\n",
      "    prediction = await anyio.to_thread.run_sync(\n",
      "  File \"C:\\Users\\adity\\miniconda3\\envs\\tfgpu\\lib\\site-packages\\anyio\\to_thread.py\", line 33, in run_sync\n",
      "    return await get_asynclib().run_sync_in_worker_thread(\n",
      "  File \"C:\\Users\\adity\\miniconda3\\envs\\tfgpu\\lib\\site-packages\\anyio\\_backends\\_asyncio.py\", line 877, in run_sync_in_worker_thread\n",
      "    return await future\n",
      "  File \"C:\\Users\\adity\\miniconda3\\envs\\tfgpu\\lib\\site-packages\\anyio\\_backends\\_asyncio.py\", line 807, in run\n",
      "    result = context.run(func, *args)\n",
      "  File \"C:\\Users\\adity\\miniconda3\\envs\\tfgpu\\lib\\site-packages\\gradio\\utils.py\", line 654, in wrapper\n",
      "    response = f(*args, **kwargs)\n",
      "  File \"C:\\Users\\adity\\AppData\\Local\\Temp\\ipykernel_24528\\1151941526.py\", line 4, in driver_fn\n",
      "    img = img/255.0\n",
      "TypeError: unsupported operand type(s) for /: 'NoneType' and 'float'\n"
     ]
    },
    {
     "name": "stdout",
     "output_type": "stream",
     "text": [
      "1/1 [==============================] - 0s 21ms/step\n"
     ]
    },
    {
     "name": "stderr",
     "output_type": "stream",
     "text": [
      "C:\\Users\\adity\\miniconda3\\envs\\tfgpu\\lib\\site-packages\\gradio\\components\\button.py:89: UserWarning: Using the update method is deprecated. Simply return a new object instead, e.g. `return gr.Button(...)` instead of `return gr.Button.update(...)`.\n",
      "  warnings.warn(\n",
      "Traceback (most recent call last):\n",
      "  File \"C:\\Users\\adity\\miniconda3\\envs\\tfgpu\\lib\\site-packages\\gradio\\routes.py\", line 517, in predict\n",
      "    output = await route_utils.call_process_api(\n",
      "  File \"C:\\Users\\adity\\miniconda3\\envs\\tfgpu\\lib\\site-packages\\gradio\\route_utils.py\", line 216, in call_process_api\n",
      "    output = await app.get_blocks().process_api(\n",
      "  File \"C:\\Users\\adity\\miniconda3\\envs\\tfgpu\\lib\\site-packages\\gradio\\blocks.py\", line 1555, in process_api\n",
      "    result = await self.call_function(\n",
      "  File \"C:\\Users\\adity\\miniconda3\\envs\\tfgpu\\lib\\site-packages\\gradio\\blocks.py\", line 1193, in call_function\n",
      "    prediction = await anyio.to_thread.run_sync(\n",
      "  File \"C:\\Users\\adity\\miniconda3\\envs\\tfgpu\\lib\\site-packages\\anyio\\to_thread.py\", line 33, in run_sync\n",
      "    return await get_asynclib().run_sync_in_worker_thread(\n",
      "  File \"C:\\Users\\adity\\miniconda3\\envs\\tfgpu\\lib\\site-packages\\anyio\\_backends\\_asyncio.py\", line 877, in run_sync_in_worker_thread\n",
      "    return await future\n",
      "  File \"C:\\Users\\adity\\miniconda3\\envs\\tfgpu\\lib\\site-packages\\anyio\\_backends\\_asyncio.py\", line 807, in run\n",
      "    result = context.run(func, *args)\n",
      "  File \"C:\\Users\\adity\\miniconda3\\envs\\tfgpu\\lib\\site-packages\\gradio\\utils.py\", line 654, in wrapper\n",
      "    response = f(*args, **kwargs)\n",
      "  File \"C:\\Users\\adity\\AppData\\Local\\Temp\\ipykernel_24528\\1151941526.py\", line 4, in driver_fn\n",
      "    img = img/255.0\n",
      "TypeError: unsupported operand type(s) for /: 'NoneType' and 'float'\n"
     ]
    },
    {
     "name": "stdout",
     "output_type": "stream",
     "text": [
      "1/1 [==============================] - 0s 19ms/step\n"
     ]
    },
    {
     "name": "stderr",
     "output_type": "stream",
     "text": [
      "C:\\Users\\adity\\miniconda3\\envs\\tfgpu\\lib\\site-packages\\gradio\\components\\button.py:89: UserWarning: Using the update method is deprecated. Simply return a new object instead, e.g. `return gr.Button(...)` instead of `return gr.Button.update(...)`.\n",
      "  warnings.warn(\n",
      "Traceback (most recent call last):\n",
      "  File \"C:\\Users\\adity\\miniconda3\\envs\\tfgpu\\lib\\site-packages\\gradio\\routes.py\", line 517, in predict\n",
      "    output = await route_utils.call_process_api(\n",
      "  File \"C:\\Users\\adity\\miniconda3\\envs\\tfgpu\\lib\\site-packages\\gradio\\route_utils.py\", line 216, in call_process_api\n",
      "    output = await app.get_blocks().process_api(\n",
      "  File \"C:\\Users\\adity\\miniconda3\\envs\\tfgpu\\lib\\site-packages\\gradio\\blocks.py\", line 1555, in process_api\n",
      "    result = await self.call_function(\n",
      "  File \"C:\\Users\\adity\\miniconda3\\envs\\tfgpu\\lib\\site-packages\\gradio\\blocks.py\", line 1193, in call_function\n",
      "    prediction = await anyio.to_thread.run_sync(\n",
      "  File \"C:\\Users\\adity\\miniconda3\\envs\\tfgpu\\lib\\site-packages\\anyio\\to_thread.py\", line 33, in run_sync\n",
      "    return await get_asynclib().run_sync_in_worker_thread(\n",
      "  File \"C:\\Users\\adity\\miniconda3\\envs\\tfgpu\\lib\\site-packages\\anyio\\_backends\\_asyncio.py\", line 877, in run_sync_in_worker_thread\n",
      "    return await future\n",
      "  File \"C:\\Users\\adity\\miniconda3\\envs\\tfgpu\\lib\\site-packages\\anyio\\_backends\\_asyncio.py\", line 807, in run\n",
      "    result = context.run(func, *args)\n",
      "  File \"C:\\Users\\adity\\miniconda3\\envs\\tfgpu\\lib\\site-packages\\gradio\\utils.py\", line 654, in wrapper\n",
      "    response = f(*args, **kwargs)\n",
      "  File \"C:\\Users\\adity\\AppData\\Local\\Temp\\ipykernel_24528\\1151941526.py\", line 4, in driver_fn\n",
      "    img = img/255.0\n",
      "TypeError: unsupported operand type(s) for /: 'NoneType' and 'float'\n"
     ]
    },
    {
     "name": "stdout",
     "output_type": "stream",
     "text": [
      "1/1 [==============================] - 0s 16ms/step\n"
     ]
    },
    {
     "name": "stderr",
     "output_type": "stream",
     "text": [
      "C:\\Users\\adity\\miniconda3\\envs\\tfgpu\\lib\\site-packages\\gradio\\components\\button.py:89: UserWarning: Using the update method is deprecated. Simply return a new object instead, e.g. `return gr.Button(...)` instead of `return gr.Button.update(...)`.\n",
      "  warnings.warn(\n",
      "Traceback (most recent call last):\n",
      "  File \"C:\\Users\\adity\\miniconda3\\envs\\tfgpu\\lib\\site-packages\\gradio\\routes.py\", line 517, in predict\n",
      "    output = await route_utils.call_process_api(\n",
      "  File \"C:\\Users\\adity\\miniconda3\\envs\\tfgpu\\lib\\site-packages\\gradio\\route_utils.py\", line 216, in call_process_api\n",
      "    output = await app.get_blocks().process_api(\n",
      "  File \"C:\\Users\\adity\\miniconda3\\envs\\tfgpu\\lib\\site-packages\\gradio\\blocks.py\", line 1555, in process_api\n",
      "    result = await self.call_function(\n",
      "  File \"C:\\Users\\adity\\miniconda3\\envs\\tfgpu\\lib\\site-packages\\gradio\\blocks.py\", line 1193, in call_function\n",
      "    prediction = await anyio.to_thread.run_sync(\n",
      "  File \"C:\\Users\\adity\\miniconda3\\envs\\tfgpu\\lib\\site-packages\\anyio\\to_thread.py\", line 33, in run_sync\n",
      "    return await get_asynclib().run_sync_in_worker_thread(\n",
      "  File \"C:\\Users\\adity\\miniconda3\\envs\\tfgpu\\lib\\site-packages\\anyio\\_backends\\_asyncio.py\", line 877, in run_sync_in_worker_thread\n",
      "    return await future\n",
      "  File \"C:\\Users\\adity\\miniconda3\\envs\\tfgpu\\lib\\site-packages\\anyio\\_backends\\_asyncio.py\", line 807, in run\n",
      "    result = context.run(func, *args)\n",
      "  File \"C:\\Users\\adity\\miniconda3\\envs\\tfgpu\\lib\\site-packages\\gradio\\utils.py\", line 654, in wrapper\n",
      "    response = f(*args, **kwargs)\n",
      "  File \"C:\\Users\\adity\\AppData\\Local\\Temp\\ipykernel_24528\\1151941526.py\", line 4, in driver_fn\n",
      "    img = img/255.0\n",
      "TypeError: unsupported operand type(s) for /: 'NoneType' and 'float'\n"
     ]
    },
    {
     "name": "stdout",
     "output_type": "stream",
     "text": [
      "1/1 [==============================] - 0s 15ms/step\n"
     ]
    },
    {
     "name": "stderr",
     "output_type": "stream",
     "text": [
      "C:\\Users\\adity\\miniconda3\\envs\\tfgpu\\lib\\site-packages\\gradio\\components\\button.py:89: UserWarning: Using the update method is deprecated. Simply return a new object instead, e.g. `return gr.Button(...)` instead of `return gr.Button.update(...)`.\n",
      "  warnings.warn(\n",
      "Traceback (most recent call last):\n",
      "  File \"C:\\Users\\adity\\miniconda3\\envs\\tfgpu\\lib\\site-packages\\gradio\\routes.py\", line 517, in predict\n",
      "    output = await route_utils.call_process_api(\n",
      "  File \"C:\\Users\\adity\\miniconda3\\envs\\tfgpu\\lib\\site-packages\\gradio\\route_utils.py\", line 216, in call_process_api\n",
      "    output = await app.get_blocks().process_api(\n",
      "  File \"C:\\Users\\adity\\miniconda3\\envs\\tfgpu\\lib\\site-packages\\gradio\\blocks.py\", line 1555, in process_api\n",
      "    result = await self.call_function(\n",
      "  File \"C:\\Users\\adity\\miniconda3\\envs\\tfgpu\\lib\\site-packages\\gradio\\blocks.py\", line 1193, in call_function\n",
      "    prediction = await anyio.to_thread.run_sync(\n",
      "  File \"C:\\Users\\adity\\miniconda3\\envs\\tfgpu\\lib\\site-packages\\anyio\\to_thread.py\", line 33, in run_sync\n",
      "    return await get_asynclib().run_sync_in_worker_thread(\n",
      "  File \"C:\\Users\\adity\\miniconda3\\envs\\tfgpu\\lib\\site-packages\\anyio\\_backends\\_asyncio.py\", line 877, in run_sync_in_worker_thread\n",
      "    return await future\n",
      "  File \"C:\\Users\\adity\\miniconda3\\envs\\tfgpu\\lib\\site-packages\\anyio\\_backends\\_asyncio.py\", line 807, in run\n",
      "    result = context.run(func, *args)\n",
      "  File \"C:\\Users\\adity\\miniconda3\\envs\\tfgpu\\lib\\site-packages\\gradio\\utils.py\", line 654, in wrapper\n",
      "    response = f(*args, **kwargs)\n",
      "  File \"C:\\Users\\adity\\AppData\\Local\\Temp\\ipykernel_24528\\1151941526.py\", line 4, in driver_fn\n",
      "    img = img/255.0\n",
      "TypeError: unsupported operand type(s) for /: 'NoneType' and 'float'\n"
     ]
    }
   ],
   "source": [
    "ui.launch()"
   ]
  },
  {
   "cell_type": "code",
   "execution_count": null,
   "id": "fc53edae-7297-46c7-b721-ae4264de57aa",
   "metadata": {},
   "outputs": [],
   "source": []
  }
 ],
 "metadata": {
  "kernelspec": {
   "display_name": "'TFGPU'",
   "language": "python",
   "name": "tfgpu"
  },
  "language_info": {
   "codemirror_mode": {
    "name": "ipython",
    "version": 3
   },
   "file_extension": ".py",
   "mimetype": "text/x-python",
   "name": "python",
   "nbconvert_exporter": "python",
   "pygments_lexer": "ipython3",
   "version": "3.10.0"
  }
 },
 "nbformat": 4,
 "nbformat_minor": 5
}
